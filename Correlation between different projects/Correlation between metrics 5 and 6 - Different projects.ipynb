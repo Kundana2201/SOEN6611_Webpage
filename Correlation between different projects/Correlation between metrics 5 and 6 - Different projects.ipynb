{
 "cells": [
  {
   "cell_type": "markdown",
   "metadata": {},
   "source": [
    "#### This block of the script reads the Backlog Management Index values from the CSV file extracted from JUnit results of different projects.\n",
    "#### BMI results are stored in column 5 of the CSV file.\n",
    "#### for loop and if condition at the end of the block is used to read only the numeric values from the mentioned column."
   ]
  },
  {
   "cell_type": "code",
   "execution_count": 1,
   "metadata": {},
   "outputs": [
    {
     "name": "stdout",
     "output_type": "stream",
     "text": [
      "[21.35, 0.0, 22.925, 0.0, 12.9125]\n"
     ]
    }
   ],
   "source": [
    "import csv\n",
    "import re\n",
    "BMI = []\n",
    "with open(\"C:\\\\Users\\\\arvin\\\\Desktop\\\\csv\\\\Projects.csv\") as csvDataFile:\n",
    "    Backlog_Management_Index=list(csv.reader(csvDataFile))\n",
    "    for column in Backlog_Management_Index:\n",
    "        pattern = r'[a-zA-Z]'\n",
    "        if re.search(pattern, column[5]):\n",
    "            continue\n",
    "        else:\n",
    "            BMI.append(float(column[5]))\n",
    "print(BMI)"
   ]
  },
  {
   "cell_type": "markdown",
   "metadata": {},
   "source": [
    "#### This block of the script reads the Defect Density values from the CSV file extracted from JUnit results of different projects.\n",
    "#### DD results are stored in column 6 of the CSV file.\n",
    "#### for loop and if condition at the end of the block is used to read only the numeric values from the mentioned column."
   ]
  },
  {
   "cell_type": "code",
   "execution_count": 2,
   "metadata": {},
   "outputs": [
    {
     "name": "stdout",
     "output_type": "stream",
     "text": [
      "[0.14, 0.05, 0.51, 0.59, 0.096]\n"
     ]
    }
   ],
   "source": [
    "import csv\n",
    "import re\n",
    "DD = []\n",
    "with open(\"C:\\\\Users\\\\arvin\\\\Desktop\\\\csv\\\\Projects.csv\") as csvDataFile:\n",
    "    Defect_Density=list(csv.reader(csvDataFile))\n",
    "    for column in Defect_Density:\n",
    "        pattern = r'[a-zA-Z]'\n",
    "        if re.search(pattern, column[6]):\n",
    "            continue\n",
    "        else:\n",
    "            DD.append(float(column[6]))\n",
    "print(DD)"
   ]
  },
  {
   "cell_type": "markdown",
   "metadata": {},
   "source": [
    "#### Calculation of Spearman correlation between BMI and DD\n",
    "#### We can see a weak positive correlation between BMI and DD"
   ]
  },
  {
   "cell_type": "code",
   "execution_count": 3,
   "metadata": {},
   "outputs": [
    {
     "name": "stdout",
     "output_type": "stream",
     "text": [
      "SpearmanrResult(correlation=0.20519567041703085, pvalue=0.7405819415910722)\n"
     ]
    }
   ],
   "source": [
    "from scipy.stats import spearmanr\n",
    "print(spearmanr(BMI, DD)) #Correlation between BMI and DD"
   ]
  },
  {
   "cell_type": "markdown",
   "metadata": {},
   "source": [
    "#### Correlation between BMI and DD is represented using a scatter plot below."
   ]
  },
  {
   "cell_type": "code",
   "execution_count": 5,
   "metadata": {},
   "outputs": [
    {
     "data": {
      "image/png": "[encoded data removed]",
      "text/plain": [
       "<matplotlib.figure.Figure at 0x18e015709e8>"
      ]
     },
     "metadata": {},
     "output_type": "display_data"
    }
   ],
   "source": [
    "import matplotlib.pyplot as plt\n",
    "import numpy as np\n",
    "import scipy, pylab\n",
    "import plotly.plotly as py\n",
    "import plotly.tools as tls\n",
    "plt.scatter(BMI, DD)\n",
    "plt.xlim(0, 25)\n",
    "plt.ylim(0, 0.6)\n",
    "plt.yticks(np.arange(0, 0.6, 0.1))\n",
    "plt.xticks(np.arange(0, 25, 5))\n",
    "plt.ylabel(\"Backlog Management Index\")\n",
    "plt.xlabel(\"Defect Density\")\n",
    "plt.title(\"Backlog Management Index vs Defect Density\")\n",
    "plt.show()"
   ]
  },
  {
   "cell_type": "code",
   "execution_count": null,
   "metadata": {},
   "outputs": [],
   "source": []
  }
 ],
 "metadata": {
  "kernelspec": {
   "display_name": "Python 3",
   "language": "python",
   "name": "python3"
  },
  "language_info": {
   "codemirror_mode": {
    "name": "ipython",
    "version": 3
   },
   "file_extension": ".py",
   "mimetype": "text/x-python",
   "name": "python",
   "nbconvert_exporter": "python",
   "pygments_lexer": "ipython3",
   "version": "3.6.0"
  }
 },
 "nbformat": 4,
 "nbformat_minor": 2
}
