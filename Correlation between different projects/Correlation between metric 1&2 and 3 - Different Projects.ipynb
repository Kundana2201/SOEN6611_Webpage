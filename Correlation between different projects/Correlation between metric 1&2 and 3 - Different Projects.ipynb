{
 "cells": [
  {
   "cell_type": "markdown",
   "metadata": {},
   "source": [
    "#### This block of the script reads the Statement Coverage from the CSV file extracted from JUnit results of different projects.\n",
    "#### Statement Coverage results are stored in column 1 of the CSV file.\n",
    "#### for loop and if condition at the end of the block is used to read only the numeric values from the mentioned column."
   ]
  },
  {
   "cell_type": "code",
   "execution_count": 1,
   "metadata": {},
   "outputs": [
    {
     "name": "stdout",
     "output_type": "stream",
     "text": [
      "Statement Coverage for multiple versions of Apache Commons IO\n",
      "\n",
      "[89, 94, 82, 89, 72]\n"
     ]
    }
   ],
   "source": [
    "import csv\n",
    "state = []\n",
    "with open(\"C:\\\\Users\\\\arvin\\\\Desktop\\\\csv\\\\Projects - Copy.csv\") as csvDataFile:\n",
    "    statement_coverage1=list(csv.reader(csvDataFile))\n",
    "    count=1\n",
    "    for column in statement_coverage1:\n",
    "        if(column[1].isdigit()):\n",
    "            state.append(int(column[1]))\n",
    "        else:\n",
    "            continue\n",
    "print(\"Statement Coverage for multiple versions of Apache Commons IO\\n\")\n",
    "print(state)"
   ]
  },
  {
   "cell_type": "markdown",
   "metadata": {},
   "source": [
    "#### This block of the script reads the Branch Coverage from the CSV file extracted from JUnit results of different projects.\n",
    "#### Branch Coverage results are stored in column 2 of the CSV file.\n",
    "#### for loop and if condition at the end of the block is used to read only the numeric values from the mentioned column."
   ]
  },
  {
   "cell_type": "code",
   "execution_count": 2,
   "metadata": {},
   "outputs": [
    {
     "name": "stdout",
     "output_type": "stream",
     "text": [
      "Branch Coverage for multiple versions of Apache Commons IO\n",
      "\n",
      "[78, 87, 74, 81, 46]\n"
     ]
    }
   ],
   "source": [
    "import csv\n",
    "branch = []\n",
    "with open(\"C:\\\\Users\\\\arvin\\\\Desktop\\\\csv\\\\Projects - Copy.csv\") as csvDataFile:\n",
    "    branch_coverage1=list(csv.reader(csvDataFile))\n",
    "    for column in branch_coverage1:\n",
    "        if(column[2].isdigit()):\n",
    "            branch.append(int(column[2]))\n",
    "        else:\n",
    "            continue\n",
    "print(\"Branch Coverage for multiple versions of Apache Commons IO\\n\")\n",
    "print(branch)"
   ]
  },
  {
   "cell_type": "markdown",
   "metadata": {},
   "source": [
    "#### This block of the script reads Mutation Coverage from the CSV file extracted from JUnit results different projects.\n",
    "#### Mutation Coverage results are stored in column 3 of the CSV file.\n",
    "#### for loop and if condition at the end of the block is used to read only the numeric values from the mentioned column."
   ]
  },
  {
   "cell_type": "code",
   "execution_count": 3,
   "metadata": {},
   "outputs": [
    {
     "name": "stdout",
     "output_type": "stream",
     "text": [
      "Mutation Coverage for multiple versions of Apache Commons IO\n",
      "\n",
      "[43, 85, 70, 59, 33]\n"
     ]
    }
   ],
   "source": [
    "import csv\n",
    "muta = []\n",
    "with open(\"C:\\\\Users\\\\arvin\\\\Desktop\\\\csv\\\\Projects - Copy.csv\") as csvDataFile:\n",
    "    mutation_coverage1=list(csv.reader(csvDataFile))\n",
    "    for column in mutation_coverage1:\n",
    "        if(column[3].isdigit()):\n",
    "            muta.append(int(column[3]))\n",
    "        else:\n",
    "            continue\n",
    "print(\"Mutation Coverage for multiple versions of Apache Commons IO\\n\")\n",
    "print(muta)"
   ]
  },
  {
   "cell_type": "markdown",
   "metadata": {},
   "source": [
    "#### This block of code calculates and prints the value of spearman correlation between Statement coverage and Mutation Coverage. And, spearman correlation between Branch coverage and Mutation Coverage. The value should be in the range [-1, 1] \n",
    "#### The results indicatres that there exists a strong positive correlation between \"(Statement coverage, Mutation Coverage)\", and strong positive correlation between \"(Branch coverage and Mutation Coverage)\"."
   ]
  },
  {
   "cell_type": "code",
   "execution_count": 4,
   "metadata": {},
   "outputs": [
    {
     "name": "stdout",
     "output_type": "stream",
     "text": [
      "SpearmanrResult(correlation=0.6668859288553503, pvalue=0.21889398131323154)\n",
      "SpearmanrResult(correlation=0.7, pvalue=0.1881204043741873)\n"
     ]
    }
   ],
   "source": [
    "from scipy.stats import spearmanr\n",
    "print(spearmanr(state, muta)) #Correlation between Statement Coverage & Mutation Coverage\n",
    "print(spearmanr(branch, muta)) #Correlation between Branch Coverage & Coverage"
   ]
  },
  {
   "cell_type": "markdown",
   "metadata": {},
   "source": [
    "#### Correlation between Statement coverage and Mutation Coverage is represented using a scatter plot below."
   ]
  },
  {
   "cell_type": "code",
   "execution_count": 7,
   "metadata": {},
   "outputs": [
    {
     "data": {
      "image/png": "[encoded data removed]",
      "text/plain": [
       "<matplotlib.figure.Figure at 0x2afbf350668>"
      ]
     },
     "metadata": {},
     "output_type": "display_data"
    }
   ],
   "source": [
    "import matplotlib.pyplot as plt\n",
    "import numpy as np\n",
    "import scipy, pylab\n",
    "import plotly.plotly as py\n",
    "import plotly.tools as tls\n",
    "plt.scatter(state, muta)\n",
    "plt.xlim(65, 95)\n",
    "plt.ylim(30, 90)\n",
    "plt.yticks(np.arange(30, 90, 10))\n",
    "plt.xticks(np.arange(65, 95, 5))\n",
    "plt.ylabel(\"Statement Coverage\")\n",
    "plt.xlabel(\"Mutation Coverage\")\n",
    "plt.title(\"Statement Coverage vs Mutation Coverage\")\n",
    "plt.show()"
   ]
  },
  {
   "cell_type": "markdown",
   "metadata": {},
   "source": [
    "#### Correlation between Branch coverage and Mutation Coverage is represented using a scatter plot below."
   ]
  },
  {
   "cell_type": "code",
   "execution_count": 8,
   "metadata": {
    "scrolled": false
   },
   "outputs": [
    {
     "data": {
      "image/png": "[encoded data removed]",
      "text/plain": [
       "<matplotlib.figure.Figure at 0x2afc03aa048>"
      ]
     },
     "metadata": {},
     "output_type": "display_data"
    }
   ],
   "source": [
    "import matplotlib.pyplot as plt\n",
    "import numpy as np\n",
    "import scipy, pylab\n",
    "import plotly.plotly as py\n",
    "import plotly.tools as tls\n",
    "plt.scatter(branch, muta)\n",
    "plt.xlim(40, 90)\n",
    "plt.ylim(30, 90)\n",
    "plt.yticks(np.arange(30, 90, 10))\n",
    "plt.xticks(np.arange(40, 90, 10))\n",
    "plt.ylabel(\"Branch Coverage\")\n",
    "plt.xlabel(\"Mutation Coverage\")\n",
    "plt.title(\"Branch Coverage vs Mutation Coverage\")\n",
    "plt.show()"
   ]
  },
  {
   "cell_type": "code",
   "execution_count": null,
   "metadata": {},
   "outputs": [],
   "source": []
  }
 ],
 "metadata": {
  "kernelspec": {
   "display_name": "Python 3",
   "language": "python",
   "name": "python3"
  },
  "language_info": {
   "codemirror_mode": {
    "name": "ipython",
    "version": 3
   },
   "file_extension": ".py",
   "mimetype": "text/x-python",
   "name": "python",
   "nbconvert_exporter": "python",
   "pygments_lexer": "ipython3",
   "version": "3.6.0"
  }
 },
 "nbformat": 4,
 "nbformat_minor": 2
}
