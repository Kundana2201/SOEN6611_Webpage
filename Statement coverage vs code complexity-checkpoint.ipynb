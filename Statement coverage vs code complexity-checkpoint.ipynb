{
 "cells": [
  {
   "cell_type": "code",
   "execution_count": 1,
   "metadata": {},
   "outputs": [],
   "source": [
    "import csv\n",
    "state = []\n",
    "with open(\"C:\\\\Users\\\\arvin\\\\Desktop\\\\IO\\\\commons-io-2.csv\") as csvDataFile:\n",
    "    statement_coverage=list(csv.reader(csvDataFile))\n",
    "    count=1\n",
    "    for column in statement_coverage:\n",
    "        if(count==1):\n",
    "            count=count+1\n",
    "        else:\n",
    "            state.append(int(column[4]))"
   ]
  },
  {
   "cell_type": "code",
   "execution_count": 2,
   "metadata": {},
   "outputs": [],
   "source": [
    "import csv\n",
    "com = []\n",
    "with open(\"C:\\\\Users\\\\arvin\\\\Desktop\\\\IO\\\\commons-io-2.csv\") as csvDataFile:\n",
    "    code_complexity=list(csv.reader(csvDataFile))\n",
    "    count=1\n",
    "    for column in code_complexity:\n",
    "        if(count==1):\n",
    "            count=count+1\n",
    "        else:\n",
    "            com.append(int(column[10]))"
   ]
  },
  {
   "cell_type": "code",
   "execution_count": 3,
   "metadata": {},
   "outputs": [],
   "source": [
    "from scipy.stats import spearmanr\n",
    "import matplotlib.pyplot as plt"
   ]
  },
  {
   "cell_type": "code",
   "execution_count": 4,
   "metadata": {},
   "outputs": [
    {
     "name": "stdout",
     "output_type": "stream",
     "text": [
      "SpearmanrResult(correlation=0.8891244565939519, pvalue=7.204696041439234e-105)\n"
     ]
    }
   ],
   "source": [
    "print(spearmanr(state, com))"
   ]
  },
  {
   "cell_type": "code",
   "execution_count": 5,
   "metadata": {},
   "outputs": [
    {
     "data": {
      "image/png": "[encoded data removed]",
      "text/plain": [
       "<matplotlib.figure.Figure at 0x2564a680160>"
      ]
     },
     "metadata": {},
     "output_type": "display_data"
    }
   ],
   "source": [
    "import matplotlib.pyplot as plt\n",
    "import numpy as np\n",
    "import scipy, pylab\n",
    "import plotly.plotly as py\n",
    "import plotly.tools as tls\n",
    "plt.scatter(state, com)\n",
    "plt.xlim(0, 7000)\n",
    "plt.ylim(0, 300)\n",
    "#major_x = np.arange(0, 7000, 1000)\n",
    "#major_y = np.arange(0, 300, 50)\n",
    "#plt.set_xticks(major_x)\n",
    "#plt.set_yticks(major_y)\n",
    "plt.yticks(np.arange(0, 300, 50))\n",
    "plt.xticks(np.arange(0, 7000, 1000))\n",
    "plt.ylabel(\"statement_coverage\")\n",
    "plt.xlabel(\"code_complexity\")\n",
    "plt.title(\"Statement_Coverage vs Code_Coverage\")\n",
    "plt.show()"
   ]
  },
  {
   "cell_type": "code",
   "execution_count": null,
   "metadata": {},
   "outputs": [],
   "source": []
  }
 ],
 "metadata": {
  "kernelspec": {
   "display_name": "Python 3",
   "language": "python",
   "name": "python3"
  },
  "language_info": {
   "codemirror_mode": {
    "name": "ipython",
    "version": 3
   },
   "file_extension": ".py",
   "mimetype": "text/x-python",
   "name": "python",
   "nbconvert_exporter": "python",
   "pygments_lexer": "ipython3",
   "version": "3.6.0"
  }
 },
 "nbformat": 4,
 "nbformat_minor": 2
}
