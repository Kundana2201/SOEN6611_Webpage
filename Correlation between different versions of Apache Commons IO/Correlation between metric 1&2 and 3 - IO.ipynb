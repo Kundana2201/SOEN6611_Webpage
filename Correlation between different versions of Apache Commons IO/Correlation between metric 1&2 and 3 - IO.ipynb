{
 "cells": [
  {
   "cell_type": "markdown",
   "metadata": {},
   "source": [
    "#### This block of the script reads the Statement Coverage from the CSV file extracted from JUnit results of seven different versions of Apache Commons IO project.\n",
    "#### Statement Coverage results are stored in column 1 of the CSV file.\n",
    "#### for loop and if condition at the end of the block is used to read only the numeric values from the mentioned column."
   ]
  },
  {
   "cell_type": "code",
   "execution_count": 1,
   "metadata": {},
   "outputs": [
    {
     "name": "stdout",
     "output_type": "stream",
     "text": [
      "Statement Coverage for multiple versions of Apache Commons IO\n",
      "\n",
      "[88, 89, 89, 89, 90, 87, 90]\n"
     ]
    }
   ],
   "source": [
    "import csv\n",
    "state = []\n",
    "with open(\"C:\\\\Users\\\\arvin\\\\Desktop\\\\IO Versions\\\\IOversions.csv\") as csvDataFile:\n",
    "    statement_coverage1=list(csv.reader(csvDataFile))\n",
    "    for column in statement_coverage1:\n",
    "        if(column[1].isdigit()):\n",
    "            state.append(int(column[1]))\n",
    "        else:\n",
    "            continue\n",
    "print(\"Statement Coverage for multiple versions of Apache Commons IO\\n\")\n",
    "print(state)"
   ]
  },
  {
   "cell_type": "markdown",
   "metadata": {},
   "source": [
    "#### This block of the script reads the Branch Coverage from the CSV file extracted from JUnit results of seven different versions of Apache Commons IO project.\n",
    "#### Branch Coverage results are stored in column 2 of the CSV file.\n",
    "#### for loop and if condition at the end of the block is used to read only the numeric values from the mentioned column."
   ]
  },
  {
   "cell_type": "code",
   "execution_count": 2,
   "metadata": {},
   "outputs": [
    {
     "name": "stdout",
     "output_type": "stream",
     "text": [
      "Branch Coverage for multiple versions of Apache Commons IO\n",
      "\n",
      "[79, 79, 81, 81, 82, 79, 81]\n"
     ]
    }
   ],
   "source": [
    "import csv\n",
    "branch = []\n",
    "with open(\"C:\\\\Users\\\\arvin\\\\Desktop\\\\IO Versions\\\\IOversions.csv\") as csvDataFile:\n",
    "    branch_coverage1=list(csv.reader(csvDataFile))\n",
    "    for column in branch_coverage1:\n",
    "        if(column[2].isdigit()):\n",
    "            branch.append(int(column[2]))\n",
    "        else:\n",
    "            continue\n",
    "print(\"Branch Coverage for multiple versions of Apache Commons IO\\n\")\n",
    "print(branch)"
   ]
  },
  {
   "cell_type": "markdown",
   "metadata": {},
   "source": [
    "#### This block of the script reads Mutation Coverage from the CSV file extracted from JUnit results of seven different versions of IO project.\n",
    "#### Mutation Coverage results are stored in column 3 of the CSV file.\n",
    "#### for loop and if condition at the end of the block is used to read only the numeric values from the mentioned column."
   ]
  },
  {
   "cell_type": "code",
   "execution_count": 3,
   "metadata": {},
   "outputs": [
    {
     "name": "stdout",
     "output_type": "stream",
     "text": [
      "Mutation Coverage for multiple versions of Apache Commons IO\n",
      "\n",
      "[82, 83, 85, 85, 85, 86, 83]\n"
     ]
    }
   ],
   "source": [
    "import csv\n",
    "muta = []\n",
    "with open(\"C:\\\\Users\\\\arvin\\\\Desktop\\\\IO Versions\\\\IOversions.csv\") as csvDataFile:\n",
    "    mutation_coverage1=list(csv.reader(csvDataFile))\n",
    "    for column in mutation_coverage1:\n",
    "        if(column[3].isdigit()):\n",
    "            muta.append(int(column[3]))\n",
    "        else:\n",
    "            continue\n",
    "print(\"Mutation Coverage for multiple versions of Apache Commons IO\\n\")\n",
    "print(muta)"
   ]
  },
  {
   "cell_type": "markdown",
   "metadata": {},
   "source": [
    "#### This block of code calculates and prints the value of spearman correlation between Statement coverage and Mutation Coverage. And, spearman correlation between Branch coverage and Mutation Coverage. The value should be in the range [-1, 1] \n",
    "#### The results indicatres that there exists a weak negative correlation between \"(Statement coverage, Mutation Coverage)\", and weak positive correlation between \"(Branch coverage and Mutation Coverage)\"."
   ]
  },
  {
   "cell_type": "code",
   "execution_count": 4,
   "metadata": {},
   "outputs": [
    {
     "name": "stdout",
     "output_type": "stream",
     "text": [
      "SpearmanrResult(correlation=-0.16666666666666663, pvalue=0.7209712020732304)\n",
      "SpearmanrResult(correlation=0.26274692712269404, pvalue=0.5691830319976201)\n"
     ]
    }
   ],
   "source": [
    "from scipy.stats import spearmanr\n",
    "print(spearmanr(state, muta)) #Correlation between Statement Coverage & Mutation Coverage\n",
    "print(spearmanr(branch, muta)) #Correlation between Branch Coverage & Mutation Coverage"
   ]
  },
  {
   "cell_type": "markdown",
   "metadata": {},
   "source": [
    "#### Correlation between Statement coverage and Mutation Coverage is represented using a scatter plot below."
   ]
  },
  {
   "cell_type": "code",
   "execution_count": 6,
   "metadata": {},
   "outputs": [
    {
     "data": {
      "image/png": "[encoded data removed]",
      "text/plain": [
       "<matplotlib.figure.Figure at 0x240810204e0>"
      ]
     },
     "metadata": {},
     "output_type": "display_data"
    }
   ],
   "source": [
    "import matplotlib.pyplot as plt\n",
    "import numpy as np\n",
    "import scipy, pylab\n",
    "import plotly.plotly as py\n",
    "import plotly.tools as tls\n",
    "plt.scatter(state, muta)\n",
    "plt.xlim(86.5, 90.5)\n",
    "plt.ylim(81, 87)\n",
    "plt.yticks(np.arange(81, 87, 1))\n",
    "plt.xticks(np.arange(86.5, 90.5, 0.5))\n",
    "plt.ylabel(\"Statement Coverage\")\n",
    "plt.xlabel(\"Mutation Coverage\")\n",
    "plt.title(\"Statement Coverage vs Mutation Coverage\")\n",
    "plt.show()"
   ]
  },
  {
   "cell_type": "markdown",
   "metadata": {},
   "source": [
    "#### Correlation between Branch coverage and Mutation Coverage is represented using a scatter plot below."
   ]
  },
  {
   "cell_type": "code",
   "execution_count": 7,
   "metadata": {
    "scrolled": false
   },
   "outputs": [
    {
     "data": {
      "image/png": "[encoded data removed]",
      "text/plain": [
       "<matplotlib.figure.Figure at 0x240810a6588>"
      ]
     },
     "metadata": {},
     "output_type": "display_data"
    }
   ],
   "source": [
    "import matplotlib.pyplot as plt\n",
    "import numpy as np\n",
    "import scipy, pylab\n",
    "import plotly.plotly as py\n",
    "import plotly.tools as tls\n",
    "plt.scatter(branch, muta)\n",
    "plt.xlim(78.5, 82.5)\n",
    "plt.ylim(81.5, 86.5)\n",
    "plt.yticks(np.arange(81.5, 86.5, 2))\n",
    "plt.xticks(np.arange(78.5, 82.5, 0.5))\n",
    "plt.ylabel(\"Branch Coverage\")\n",
    "plt.xlabel(\"Mutation Coverage\")\n",
    "plt.title(\"Branch Coverage vs Mutation Coverage\")\n",
    "plt.show()"
   ]
  },
  {
   "cell_type": "code",
   "execution_count": null,
   "metadata": {},
   "outputs": [],
   "source": []
  }
 ],
 "metadata": {
  "kernelspec": {
   "display_name": "Python 3",
   "language": "python",
   "name": "python3"
  },
  "language_info": {
   "codemirror_mode": {
    "name": "ipython",
    "version": 3
   },
   "file_extension": ".py",
   "mimetype": "text/x-python",
   "name": "python",
   "nbconvert_exporter": "python",
   "pygments_lexer": "ipython3",
   "version": "3.6.0"
  }
 },
 "nbformat": 4,
 "nbformat_minor": 2
}
