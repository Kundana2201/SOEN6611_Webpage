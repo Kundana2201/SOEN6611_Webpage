{
 "cells": [
  {
   "cell_type": "markdown",
   "metadata": {},
   "source": [
    "##### This block of the script reads the Statement Coverage from the CSV file extracted from JUnit results of seven different versions of Apache Commons IO projects.\n",
    "#### Statement Coverage results are stored in column 1 of the CSV file.\n",
    "#### for loop and if condition at the end of the block is used to read only the numeric values from the mentioned column."
   ]
  },
  {
   "cell_type": "code",
   "execution_count": 1,
   "metadata": {},
   "outputs": [
    {
     "name": "stdout",
     "output_type": "stream",
     "text": [
      "[88, 89, 89, 89, 90, 87, 90]\n"
     ]
    }
   ],
   "source": [
    "import csv\n",
    "state = []\n",
    "with open(\"C:\\\\Users\\\\arvin\\\\Desktop\\\\IO Versions\\\\IOversions.csv\") as csvDataFile:\n",
    "    statement_coverage1=list(csv.reader(csvDataFile))\n",
    "    for column in statement_coverage1:\n",
    "        if(column[1].isdigit()):\n",
    "            state.append(int(column[1]))\n",
    "        else:\n",
    "            continue\n",
    "print(state)"
   ]
  },
  {
   "cell_type": "markdown",
   "metadata": {},
   "source": [
    "##### This block of the script reads the Branch Coverage from the CSV file extracted from JUnit results of seven different versions of Apache Commons IO project.\n",
    "#### Branch Coverage results are stored in column 2 of the CSV file.\n",
    "#### for loop and if condition at the end of the block is used to read only the numeric values from the mentioned column.\n"
   ]
  },
  {
   "cell_type": "code",
   "execution_count": 2,
   "metadata": {},
   "outputs": [
    {
     "name": "stdout",
     "output_type": "stream",
     "text": [
      "[79, 79, 81, 81, 82, 79, 81]\n"
     ]
    }
   ],
   "source": [
    "import csv\n",
    "branch = []\n",
    "with open(\"C:\\\\Users\\\\arvin\\\\Desktop\\\\IO Versions\\\\IOversions.csv\") as csvDataFile:\n",
    "    branch_coverage1=list(csv.reader(csvDataFile))\n",
    "    for column in branch_coverage1:\n",
    "        if(column[2].isdigit()):\n",
    "            branch.append(int(column[2]))\n",
    "        else:\n",
    "            continue\n",
    "print(branch)"
   ]
  },
  {
   "cell_type": "markdown",
   "metadata": {},
   "source": [
    "#### This block of the script reads the Defect Density from the CSV file extracted from JUnit results of seven different versions of Apache Commons IO project.\n",
    "#### Defect Density results are stored in column 6 of the CSV file.\n",
    "#### for loop and if condition at the end of the block is used to read only the numeric values from the mentioned column."
   ]
  },
  {
   "cell_type": "code",
   "execution_count": 3,
   "metadata": {},
   "outputs": [
    {
     "name": "stdout",
     "output_type": "stream",
     "text": [
      "[0.64, 0.57, 0.14, 0.29, 2.09, 0.82, 0.59]\n"
     ]
    }
   ],
   "source": [
    "import csv\n",
    "import re\n",
    "DD = []\n",
    "with open(\"C:\\\\Users\\\\arvin\\\\Desktop\\\\IO Versions\\\\IOversions.csv\") as csvDataFile:\n",
    "    Defect_Density1=list(csv.reader(csvDataFile))\n",
    "    for column in Defect_Density1:\n",
    "        pattern = r'[a-zA-Z]'\n",
    "        if re.search(pattern, column[6]):\n",
    "            continue\n",
    "        else:\n",
    "            DD.append(float(column[6]))\n",
    "    #for column in Defect_Density1: \n",
    "print(DD)"
   ]
  },
  {
   "cell_type": "markdown",
   "metadata": {},
   "source": [
    "#### This block of code calculates and prints the value of spearman correlation between Statement coverage and Defect Density. And, spearman correlation between Branch coverage and Defect Density. The value should be in the range [-1, 1]\n",
    "#### The results indicates that there exists a weak negative correlation between both \"(Statement coverage, Defect Density)\", and between \"(Branch coverage and Defect Density)\"."
   ]
  },
  {
   "cell_type": "code",
   "execution_count": 4,
   "metadata": {},
   "outputs": [
    {
     "name": "stdout",
     "output_type": "stream",
     "text": [
      "SpearmanrResult(correlation=-0.018712029714127994, pvalue=0.9682390328158418)\n",
      "SpearmanrResult(correlation=0.0, pvalue=1.0)\n"
     ]
    }
   ],
   "source": [
    "from scipy.stats import spearmanr\n",
    "print(spearmanr(state, DD)) #Correlation between Statement Coverage & Defect Density\n",
    "print(spearmanr(branch, DD)) #Correlation between Branch Coverage & Defect Density"
   ]
  },
  {
   "cell_type": "markdown",
   "metadata": {},
   "source": [
    "#### Correlation between Statement Coverage and Defect Density is represented using a scatter plot below."
   ]
  },
  {
   "cell_type": "code",
   "execution_count": 7,
   "metadata": {},
   "outputs": [
    {
     "data": {
      "image/png": "[encoded data removed]",
      "text/plain": [
       "<matplotlib.figure.Figure at 0x1b1a0822b70>"
      ]
     },
     "metadata": {},
     "output_type": "display_data"
    }
   ],
   "source": [
    "import matplotlib.pyplot as plt\n",
    "import numpy as np\n",
    "import scipy, pylab\n",
    "import plotly.plotly as py\n",
    "import plotly.tools as tls\n",
    "plt.scatter(state, DD)\n",
    "plt.xlim(0, 100)\n",
    "plt.ylim(0, 2.2)\n",
    "plt.yticks(np.arange(0, 2.2, 0.6))\n",
    "plt.xticks(np.arange(0, 100, 20))\n",
    "plt.ylabel(\"Statement Coverage\")\n",
    "plt.xlabel(\"Defect Density\")\n",
    "plt.title(\"Statement Coverage vs Defect Density\")\n",
    "plt.show()\n"
   ]
  },
  {
   "cell_type": "markdown",
   "metadata": {},
   "source": [
    "#### Correlation between Branch Coverage and Defect Density is represented using a scatter plot below."
   ]
  },
  {
   "cell_type": "code",
   "execution_count": 8,
   "metadata": {},
   "outputs": [
    {
     "data": {
      "image/png": "[encoded data removed]",
      "text/plain": [
       "<matplotlib.figure.Figure at 0x1b1a0898160>"
      ]
     },
     "metadata": {},
     "output_type": "display_data"
    }
   ],
   "source": [
    "import matplotlib.pyplot as plt\n",
    "import numpy as np\n",
    "import scipy, pylab\n",
    "import plotly.plotly as py\n",
    "import plotly.tools as tls\n",
    "plt.scatter(branch, DD)\n",
    "plt.xlim(0, 100)\n",
    "plt.ylim(0, 2.2)\n",
    "plt.yticks(np.arange(0, 2.2, 0.6))\n",
    "plt.xticks(np.arange(0, 100, 20))\n",
    "plt.ylabel(\"Branch Coverage\")\n",
    "plt.xlabel(\"Defect Density\")\n",
    "plt.title(\"Branch Coverage vs Defect Density\")\n",
    "plt.show()\n"
   ]
  },
  {
   "cell_type": "code",
   "execution_count": null,
   "metadata": {},
   "outputs": [],
   "source": []
  }
 ],
 "metadata": {
  "kernelspec": {
   "display_name": "Python 3",
   "language": "python",
   "name": "python3"
  },
  "language_info": {
   "codemirror_mode": {
    "name": "ipython",
    "version": 3
   },
   "file_extension": ".py",
   "mimetype": "text/x-python",
   "name": "python",
   "nbconvert_exporter": "python",
   "pygments_lexer": "ipython3",
   "version": "3.6.0"
  }
 },
 "nbformat": 4,
 "nbformat_minor": 2
}
