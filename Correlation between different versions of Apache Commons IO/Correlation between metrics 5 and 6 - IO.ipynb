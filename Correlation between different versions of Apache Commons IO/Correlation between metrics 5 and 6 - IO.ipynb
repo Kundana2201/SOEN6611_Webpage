{
 "cells": [
  {
   "cell_type": "markdown",
   "metadata": {},
   "source": [
    "#### This block of the script reads the Backlog Management Index values from the CSV file extracted from JUnit results of different projects.\n",
    "#### BMI results are stored in column 5 of the CSV file.\n",
    "#### for loop and if condition at the end of the block is used to read only the numeric values from the mentioned column."
   ]
  },
  {
   "cell_type": "code",
   "execution_count": 1,
   "metadata": {},
   "outputs": [
    {
     "name": "stdout",
     "output_type": "stream",
     "text": [
      "[0.0, 0.0, 0.0, 0.0, 0.0, 0.0, 0.0]\n"
     ]
    }
   ],
   "source": [
    "import csv\n",
    "import re\n",
    "BMI = []\n",
    "with open(\"C:\\\\Users\\\\arvin\\\\Desktop\\\\IO Versions\\\\IOversions.csv\") as csvDataFile:\n",
    "    Backlog_Management_Index=list(csv.reader(csvDataFile))\n",
    "    for column in Backlog_Management_Index:\n",
    "        pattern = r'[a-zA-Z]'\n",
    "        if re.search(pattern, column[5]):\n",
    "            continue\n",
    "        else:\n",
    "            BMI.append(float(column[5]))\n",
    "print(BMI)"
   ]
  },
  {
   "cell_type": "markdown",
   "metadata": {},
   "source": [
    "#### This block of the script reads the Defect Density values from the CSV file extracted from JUnit results of different projects.\n",
    "#### DD results are stored in column 6 of the CSV file.\n",
    "#### for loop and if condition at the end of the block is used to read only the numeric values from the mentioned column."
   ]
  },
  {
   "cell_type": "code",
   "execution_count": 2,
   "metadata": {},
   "outputs": [
    {
     "name": "stdout",
     "output_type": "stream",
     "text": [
      "[0.64, 0.57, 0.14, 0.29, 2.09, 0.82, 0.59]\n"
     ]
    }
   ],
   "source": [
    "import csv\n",
    "import re\n",
    "DD = []\n",
    "with open(\"\\\\Users\\\\arvin\\\\Desktop\\\\IO Versions\\\\IOversions.csv\") as csvDataFile:\n",
    "    Defect_Density=list(csv.reader(csvDataFile))\n",
    "    for column in Defect_Density:\n",
    "        pattern = r'[a-zA-Z]'\n",
    "        if re.search(pattern, column[6]):\n",
    "            continue\n",
    "        else:\n",
    "            DD.append(float(column[6]))\n",
    "print(DD)"
   ]
  },
  {
   "cell_type": "markdown",
   "metadata": {},
   "source": [
    "#### Calculation of Spearman correlation between BMI and DD\n",
    "#### We can see a weak positive correlation between BMI and DD"
   ]
  },
  {
   "cell_type": "code",
   "execution_count": 4,
   "metadata": {},
   "outputs": [
    {
     "name": "stdout",
     "output_type": "stream",
     "text": [
      "SpearmanrResult(correlation=nan, pvalue=nan)\n"
     ]
    },
    {
     "name": "stderr",
     "output_type": "stream",
     "text": [
      "C:\\Users\\arvin\\Anaconda3\\lib\\site-packages\\numpy\\lib\\function_base.py:3183: RuntimeWarning: invalid value encountered in true_divide\n",
      "  c /= stddev[:, None]\n",
      "C:\\Users\\arvin\\Anaconda3\\lib\\site-packages\\numpy\\lib\\function_base.py:3184: RuntimeWarning: invalid value encountered in true_divide\n",
      "  c /= stddev[None, :]\n",
      "C:\\Users\\arvin\\Anaconda3\\lib\\site-packages\\scipy\\stats\\_distn_infrastructure.py:879: RuntimeWarning: invalid value encountered in greater\n",
      "  return (self.a < x) & (x < self.b)\n",
      "C:\\Users\\arvin\\Anaconda3\\lib\\site-packages\\scipy\\stats\\_distn_infrastructure.py:879: RuntimeWarning: invalid value encountered in less\n",
      "  return (self.a < x) & (x < self.b)\n",
      "C:\\Users\\arvin\\Anaconda3\\lib\\site-packages\\scipy\\stats\\_distn_infrastructure.py:1821: RuntimeWarning: invalid value encountered in less_equal\n",
      "  cond2 = cond0 & (x <= self.a)\n"
     ]
    }
   ],
   "source": [
    "from scipy.stats import spearmanr\n",
    "print(spearmanr(BMI, DD)) #Correlation between BMI and DD"
   ]
  },
  {
   "cell_type": "raw",
   "metadata": {},
   "source": [
    "BMI values for all versions of Apache Commons IO is 0. Since denominator is 0, we get this warning."
   ]
  },
  {
   "cell_type": "markdown",
   "metadata": {},
   "source": [
    "#### Correlation between BMI and DD is represented using a scatter plot below."
   ]
  },
  {
   "cell_type": "code",
   "execution_count": 6,
   "metadata": {},
   "outputs": [
    {
     "data": {
      "image/png": "[encoded data removed]",
      "text/plain": [
       "<matplotlib.figure.Figure at 0x1c5cfe9e6d8>"
      ]
     },
     "metadata": {},
     "output_type": "display_data"
    }
   ],
   "source": [
    "import matplotlib.pyplot as plt\n",
    "import numpy as np\n",
    "import scipy, pylab\n",
    "import plotly.plotly as py\n",
    "import plotly.tools as tls\n",
    "plt.scatter(BMI, DD)\n",
    "plt.xlim(-1.5, 1.5)\n",
    "plt.ylim(0, 2.5)\n",
    "plt.yticks(np.arange(0, 2.5, 0.5))\n",
    "plt.xticks(np.arange(-1.5, 1.5, 0.5))\n",
    "plt.ylabel(\"Backlog Management Index\")\n",
    "plt.xlabel(\"Defect Density\")\n",
    "plt.title(\"Backlog Management Index vs Defect Density\")\n",
    "plt.show()"
   ]
  },
  {
   "cell_type": "code",
   "execution_count": null,
   "metadata": {},
   "outputs": [],
   "source": []
  }
 ],
 "metadata": {
  "kernelspec": {
   "display_name": "Python 3",
   "language": "python",
   "name": "python3"
  },
  "language_info": {
   "codemirror_mode": {
    "name": "ipython",
    "version": 3
   },
   "file_extension": ".py",
   "mimetype": "text/x-python",
   "name": "python",
   "nbconvert_exporter": "python",
   "pygments_lexer": "ipython3",
   "version": "3.6.0"
  }
 },
 "nbformat": 4,
 "nbformat_minor": 2
}
